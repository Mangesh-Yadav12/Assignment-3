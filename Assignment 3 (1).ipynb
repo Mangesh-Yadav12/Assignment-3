{
 "cells": [
  {
   "cell_type": "markdown",
   "id": "c1e78bd4",
   "metadata": {},
   "source": [
    "#### 1. Why are functions advantageous to have in your programs?\n",
    "\n",
    "ANS : Functions reduce the `duplicate code`. This makes programs `shorter`, `easier to read`, and `easier to update`."
   ]
  },
  {
   "cell_type": "markdown",
   "id": "54d04ef0",
   "metadata": {},
   "source": [
    "#### 2. When does the code in a function run: when it's specified or when it's called?\n",
    "\n",
    "ANS : When a function is `\"called\"` the program `\"leaves\"` the current section of code and begins to execute the first line inside the function"
   ]
  },
  {
   "cell_type": "markdown",
   "id": "68603881",
   "metadata": {},
   "source": [
    "#### 3. What statement creates a function?\n",
    "\n",
    "ANS : You can define functions to provide the required functionality. Here are simple rules to define a function in Python.\n",
    "\n",
    "1. Function blocks begin with the keyword def followed by the function name and parentheses ( ( ) ).\n",
    "\n",
    "2. Any input parameters or arguments should be placed within these parentheses. You can also define parameters inside these parentheses.\n",
    "\n",
    "3. The first statement of a function can be an optional statement - the documentation string of the function or docstring.\n",
    "\n",
    "4. The code block within every function starts with a colon (:) and is indented.\n",
    "\n",
    "5. The statement return [expression] exits a function, optionally passing back an expression to the caller. A return statement with no arguments is the same as return None."
   ]
  },
  {
   "cell_type": "markdown",
   "id": "8592fad1",
   "metadata": {},
   "source": [
    "###### Syntax\n",
    "`def functionname( parameters ):`\n",
    "\n",
    "`\"function_docstring\"`\n",
    "\n",
    "`function_suite`\n",
    "\n",
    "`return [expression]`"
   ]
  },
  {
   "cell_type": "markdown",
   "id": "c0fe007e",
   "metadata": {},
   "source": [
    "#### 4. What is the difference between a function and a function call?\n",
    "\n",
    "ANS : A function is a piece of code which enhanced the reusability and modularity of your program. It means that piece of code need not be written again. A function call means invoking or calling that function."
   ]
  },
  {
   "cell_type": "markdown",
   "id": "20d6c374",
   "metadata": {},
   "source": [
    "#### 5. How many global scopes are there in a Python program? How many local scopes?\n",
    "\n",
    "ANS : There's only one global Python scope per program execution. This scope remains in existence until the program terminates and all its names are forgotten."
   ]
  },
  {
   "cell_type": "markdown",
   "id": "a4cbfda2",
   "metadata": {},
   "source": [
    "#### 6. What happens to variables in a local scope when the function call returns?\n",
    "\n",
    "ANS : A local variable retains its value until the next time the function is called\n",
    "\n",
    "A local variable becomes undefined after the function call completes\n",
    "\n",
    "The local variable can be used outside the function any time after the function call completes."
   ]
  },
  {
   "cell_type": "markdown",
   "id": "2b04cfb0",
   "metadata": {},
   "source": [
    "#### 7. What is the concept of a return value? Is it possible to have a return value in an expression?\n",
    "Ans: A return value is the value that a function call evaluates to. Like any value, a return value can be used as part of an expression."
   ]
  },
  {
   "cell_type": "markdown",
   "id": "ce3b909a",
   "metadata": {},
   "source": [
    "#### 8. If a function does not have a return statement, what is the return value of a call to that function?\n",
    "Ans: If there is no return statement for a function, its return value is `None`."
   ]
  },
  {
   "cell_type": "markdown",
   "id": "739dd573",
   "metadata": {},
   "source": [
    "#### 9. How do you make a function variable refer to the global variable?\n",
    "\n",
    "ANS : If you want to refer to a global variable in a function, you can `use the global keyword to declare which variables are global`."
   ]
  },
  {
   "cell_type": "markdown",
   "id": "9a580cbc",
   "metadata": {},
   "source": [
    "#### 10. What is the data type of None?\n",
    "\n",
    "ANS : `None is a data type of its own (NoneType)` and only None can be None."
   ]
  },
  {
   "cell_type": "markdown",
   "id": "7ba79c75",
   "metadata": {},
   "source": [
    "#### 11. What does the sentence import areallyourpetsnamederic do?\n",
    "Ans: That import statement `imports a module named areallyourpetsnamederic`."
   ]
  },
  {
   "cell_type": "markdown",
   "id": "e4bbcaed",
   "metadata": {},
   "source": [
    "#### 12. If you had a bacon() feature in a spam module, what would you call it after importing spam?¶\n",
    "Ans: This function can be called with `spam.bacon()`."
   ]
  },
  {
   "cell_type": "markdown",
   "id": "877650e6",
   "metadata": {},
   "source": [
    "#### 13. What can you do to save a programme from crashing if it encounters an error?\n",
    "Ans: Place the line of code that might cause an error in a `try` clause and use except `block` to handle the error."
   ]
  },
  {
   "cell_type": "markdown",
   "id": "ebd9fb0e",
   "metadata": {},
   "source": [
    "#### 14. What is the purpose of the try clause? What is the purpose of the except clause?\n",
    "ANS:The code that could potentially cause an error goes in the try clause. The code that executes if an `error `happens goes in the `except` clause."
   ]
  },
  {
   "cell_type": "code",
   "execution_count": null,
   "id": "98813d61",
   "metadata": {},
   "outputs": [],
   "source": []
  }
 ],
 "metadata": {
  "kernelspec": {
   "display_name": "Python 3",
   "language": "python",
   "name": "python3"
  },
  "language_info": {
   "codemirror_mode": {
    "name": "ipython",
    "version": 3
   },
   "file_extension": ".py",
   "mimetype": "text/x-python",
   "name": "python",
   "nbconvert_exporter": "python",
   "pygments_lexer": "ipython3",
   "version": "3.8.8"
  }
 },
 "nbformat": 4,
 "nbformat_minor": 5
}
